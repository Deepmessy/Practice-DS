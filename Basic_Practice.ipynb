{
  "nbformat": 4,
  "nbformat_minor": 0,
  "metadata": {
    "colab": {
      "provenance": [],
      "gpuType": "T4"
    },
    "kernelspec": {
      "name": "python3",
      "display_name": "Python 3"
    },
    "language_info": {
      "name": "python"
    },
    "accelerator": "GPU"
  },
  "cells": [
    {
      "cell_type": "code",
      "source": [],
      "metadata": {
        "id": "1mhVJm7fFDSk"
      },
      "execution_count": 63,
      "outputs": []
    },
    {
      "cell_type": "markdown",
      "source": [
        "# Day 1"
      ],
      "metadata": {
        "id": "9uwqTuBRFaR5"
      }
    },
    {
      "cell_type": "markdown",
      "source": [
        "# Strings"
      ],
      "metadata": {
        "id": "pHvewZeIFJOO"
      }
    },
    {
      "cell_type": "markdown",
      "source": [
        "## **Exercises**"
      ],
      "metadata": {
        "id": "qQjVY22NNTpy"
      }
    },
    {
      "cell_type": "code",
      "source": [
        "#1. take name as input and say hello\n",
        "name = input(\" \")\n",
        "print(\"Hello {} ! \".format(name) )"
      ],
      "metadata": {
        "colab": {
          "base_uri": "https://localhost:8080/"
        },
        "id": "XbklAwq497hP",
        "outputId": "64457aca-c9a8-49f7-c084-c5af682c3371"
      },
      "execution_count": 86,
      "outputs": [
        {
          "output_type": "stream",
          "name": "stdout",
          "text": [
            " Deepak\n",
            "Hello Deepak ! \n"
          ]
        }
      ]
    },
    {
      "cell_type": "code",
      "source": [
        "# 2. From below string print count of \"Is\".\n",
        "string = \"He is Amol and she is Chaitali\"\n",
        "string.count(\"is\")"
      ],
      "metadata": {
        "colab": {
          "base_uri": "https://localhost:8080/"
        },
        "id": "zxmfIyAQAhcm",
        "outputId": "7bf93b32-e93b-4d9a-c403-f16ca701e62c"
      },
      "execution_count": 83,
      "outputs": [
        {
          "output_type": "execute_result",
          "data": {
            "text/plain": [
              "2"
            ]
          },
          "metadata": {},
          "execution_count": 83
        }
      ]
    },
    {
      "cell_type": "code",
      "source": [
        "# 3. from below string split the words by space\n",
        "string = \"Data is new oil\"\n",
        "string.split(\" \")"
      ],
      "metadata": {
        "colab": {
          "base_uri": "https://localhost:8080/"
        },
        "id": "-_XSCyh8A5TO",
        "outputId": "6476dcba-df35-4b90-f735-1fb6a84367f7"
      },
      "execution_count": 82,
      "outputs": [
        {
          "output_type": "execute_result",
          "data": {
            "text/plain": [
              "['Data', 'is', 'new', 'oil']"
            ]
          },
          "metadata": {},
          "execution_count": 82
        }
      ]
    },
    {
      "cell_type": "code",
      "source": [
        "# 4. now from below list, join all words by \"=\" and create a sentence.\n",
        "list_1 = [\"Data\", \"is\", \"new\", \"oil\"]\n",
        "#ans\n",
        "joinedl = \"=\".join(list_1)\n",
        "print(joinedl)"
      ],
      "metadata": {
        "colab": {
          "base_uri": "https://localhost:8080/"
        },
        "id": "TerK6rXvBJ9-",
        "outputId": "9372233c-acbe-4115-d3f9-8770ffedf5bc"
      },
      "execution_count": 81,
      "outputs": [
        {
          "output_type": "stream",
          "name": "stdout",
          "text": [
            "Data=is=new=oil\n"
          ]
        }
      ]
    },
    {
      "cell_type": "code",
      "source": [
        "# 5. from below string replace \"Java\" with \"Python\"\n",
        "sentence = \"I love programming in Java.\"\n",
        "#ans\n",
        "replaced_sent2 = sentence.replace(\"Java\",\"Python\")\n",
        "print(replaced_sent2)"
      ],
      "metadata": {
        "colab": {
          "base_uri": "https://localhost:8080/"
        },
        "id": "ii2VQhNxB1mh",
        "outputId": "1f962bc6-8add-4e2f-cf33-da9efbce8e87"
      },
      "execution_count": 80,
      "outputs": [
        {
          "output_type": "stream",
          "name": "stdout",
          "text": [
            "I love programming in Python.\n"
          ]
        }
      ]
    },
    {
      "cell_type": "code",
      "source": [
        "# 6. from below string remove(strip) additional spaces and print it\n",
        "message = \"   This is a message with spaces.   \"\n",
        "#ans\n",
        "message.strip()"
      ],
      "metadata": {
        "colab": {
          "base_uri": "https://localhost:8080/",
          "height": 35
        },
        "id": "AGePdwUnB_zS",
        "outputId": "3b9ad286-ce3c-4d6b-92d7-0d02fae16933"
      },
      "execution_count": 78,
      "outputs": [
        {
          "output_type": "execute_result",
          "data": {
            "text/plain": [
              "'This is a message with spaces.'"
            ],
            "application/vnd.google.colaboratory.intrinsic+json": {
              "type": "string"
            }
          },
          "metadata": {},
          "execution_count": 78
        }
      ]
    },
    {
      "cell_type": "code",
      "source": [
        "#7. From below string find postion(start index) of \"sample\"\n",
        "sentence = \"This is a sample sentence.\"\n",
        "#ans\n",
        "sentence.index(\"sample\")"
      ],
      "metadata": {
        "colab": {
          "base_uri": "https://localhost:8080/"
        },
        "id": "cFpw0dxMCZDa",
        "outputId": "05ddc011-10e3-480b-bcd4-4f9d9757019c"
      },
      "execution_count": 64,
      "outputs": [
        {
          "output_type": "execute_result",
          "data": {
            "text/plain": [
              "10"
            ]
          },
          "metadata": {},
          "execution_count": 64
        }
      ]
    },
    {
      "cell_type": "code",
      "source": [
        "#8. Given the string \"Python is fun!\", how can you calculate and print its length?\n",
        "text = \"Python is fun!\"\n",
        "#ans\n",
        "len(text)"
      ],
      "metadata": {
        "colab": {
          "base_uri": "https://localhost:8080/"
        },
        "id": "vDlWqYj7KgNV",
        "outputId": "664b853c-9c00-47c1-a274-8690c98bb659"
      },
      "execution_count": 65,
      "outputs": [
        {
          "output_type": "execute_result",
          "data": {
            "text/plain": [
              "14"
            ]
          },
          "metadata": {},
          "execution_count": 65
        }
      ]
    },
    {
      "cell_type": "code",
      "source": [
        "#9. Print below string in reverse order\n",
        "string = \"Pineapple\"\n",
        "#ans\n",
        "string[::-1]"
      ],
      "metadata": {
        "colab": {
          "base_uri": "https://localhost:8080/",
          "height": 35
        },
        "id": "VePAYbSHKmwZ",
        "outputId": "c187a852-6b40-4c1f-93bf-9fc9425240e6"
      },
      "execution_count": 66,
      "outputs": [
        {
          "output_type": "execute_result",
          "data": {
            "text/plain": [
              "'elppaeniP'"
            ],
            "application/vnd.google.colaboratory.intrinsic+json": {
              "type": "string"
            }
          },
          "metadata": {},
          "execution_count": 66
        }
      ]
    },
    {
      "cell_type": "code",
      "source": [
        "#10. Given the string \"Welcome to Python Programming.\", how can you capitalize the first letter of each word and print the modified string?\n",
        "text = \"Welcome to Python Programming.\"\n",
        "#ans\n",
        "text.title()"
      ],
      "metadata": {
        "colab": {
          "base_uri": "https://localhost:8080/",
          "height": 35
        },
        "id": "2redjFMUKsfr",
        "outputId": "30c34dea-4566-4da5-fff5-c120fc92025a"
      },
      "execution_count": 71,
      "outputs": [
        {
          "output_type": "execute_result",
          "data": {
            "text/plain": [
              "'Welcome To Python Programming.'"
            ],
            "application/vnd.google.colaboratory.intrinsic+json": {
              "type": "string"
            }
          },
          "metadata": {},
          "execution_count": 71
        }
      ]
    },
    {
      "cell_type": "code",
      "source": [
        "#11. Convert all letter of string to Upper Case\n",
        "text = \"Data is new oil\"\n",
        "#ans\n",
        "text.upper()"
      ],
      "metadata": {
        "colab": {
          "base_uri": "https://localhost:8080/",
          "height": 35
        },
        "id": "zGnqcAX4K0pU",
        "outputId": "768a05fc-2ce2-4e94-a762-37847d3a342d"
      },
      "execution_count": 72,
      "outputs": [
        {
          "output_type": "execute_result",
          "data": {
            "text/plain": [
              "'DATA IS NEW OIL'"
            ],
            "application/vnd.google.colaboratory.intrinsic+json": {
              "type": "string"
            }
          },
          "metadata": {},
          "execution_count": 72
        }
      ]
    },
    {
      "cell_type": "code",
      "source": [
        "#12. From below string just convert first lettter of string to upper case\n",
        "text = \"i am learning python\"\n",
        "#ans\n",
        "text.capitalize()"
      ],
      "metadata": {
        "colab": {
          "base_uri": "https://localhost:8080/",
          "height": 35
        },
        "id": "K_cxj6XILrB2",
        "outputId": "529b3721-0069-4f2b-d4c4-feef433fc5e8"
      },
      "execution_count": 73,
      "outputs": [
        {
          "output_type": "execute_result",
          "data": {
            "text/plain": [
              "'I am learning python'"
            ],
            "application/vnd.google.colaboratory.intrinsic+json": {
              "type": "string"
            }
          },
          "metadata": {},
          "execution_count": 73
        }
      ]
    },
    {
      "cell_type": "code",
      "source": [
        "#13. Convert all uppper case to lower and lower case to upper\n",
        "text = \"DaTA is NeW oIL\"\n",
        "#ans\n",
        "text.swapcase()"
      ],
      "metadata": {
        "colab": {
          "base_uri": "https://localhost:8080/",
          "height": 35
        },
        "id": "oi9pagTTLxMC",
        "outputId": "c1aad780-2bd5-432b-9b04-aa03976d991c"
      },
      "execution_count": 74,
      "outputs": [
        {
          "output_type": "execute_result",
          "data": {
            "text/plain": [
              "'dAta IS nEw Oil'"
            ],
            "application/vnd.google.colaboratory.intrinsic+json": {
              "type": "string"
            }
          },
          "metadata": {},
          "execution_count": 74
        }
      ]
    },
    {
      "cell_type": "code",
      "source": [
        "#14. print the addition of below 2 strings\n",
        "a = 20\n",
        "b = 30\n",
        "#ans\n",
        "print(a+b)"
      ],
      "metadata": {
        "colab": {
          "base_uri": "https://localhost:8080/"
        },
        "id": "mqQmUdybL3BZ",
        "outputId": "7be70b2f-0976-4a1b-cce0-eceec814ddb7"
      },
      "execution_count": 75,
      "outputs": [
        {
          "output_type": "stream",
          "name": "stdout",
          "text": [
            "50\n"
          ]
        }
      ]
    },
    {
      "cell_type": "code",
      "source": [
        "#15. print the additiono of below 2 strings\n",
        "a = \"20\"\n",
        "b = \"30\"\n",
        "print(a+b)"
      ],
      "metadata": {
        "colab": {
          "base_uri": "https://localhost:8080/"
        },
        "id": "bDHn5X6TL9ku",
        "outputId": "bd61a42f-6bb4-44d6-b904-ede96e25b7e4"
      },
      "execution_count": 76,
      "outputs": [
        {
          "output_type": "stream",
          "name": "stdout",
          "text": [
            "2030\n"
          ]
        }
      ]
    },
    {
      "cell_type": "code",
      "source": [],
      "metadata": {
        "id": "OVPVlQXxMGaq"
      },
      "execution_count": null,
      "outputs": []
    }
  ]
}